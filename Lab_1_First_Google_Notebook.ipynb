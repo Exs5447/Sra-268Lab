{
  "nbformat": 4,
  "nbformat_minor": 0,
  "metadata": {
    "colab": {
      "name": "Lab 1- First Google Notebook",
      "provenance": [],
      "toc_visible": true,
      "authorship_tag": "ABX9TyM5q7H/wCS7fjFcSxDBMSLG",
      "include_colab_link": true
    },
    "kernelspec": {
      "name": "python3",
      "display_name": "Python 3"
    }
  },
  "cells": [
    {
      "cell_type": "markdown",
      "metadata": {
        "id": "view-in-github",
        "colab_type": "text"
      },
      "source": [
        "<a href=\"https://colab.research.google.com/github/Exs5447/Sra-268Lab/blob/master/Lab_1_First_Google_Notebook.ipynb\" target=\"_parent\"><img src=\"https://colab.research.google.com/assets/colab-badge.svg\" alt=\"Open In Colab\"/></a>"
      ]
    },
    {
      "cell_type": "markdown",
      "metadata": {
        "id": "ZLn3N2I8VBz_",
        "colab_type": "text"
      },
      "source": [
        "#1. State College Precipitation"
      ]
    },
    {
      "cell_type": "markdown",
      "metadata": {
        "id": "aKzwAKRdVEsK",
        "colab_type": "text"
      },
      "source": [
        "#2. Outline\n",
        "The information that will be presented are graphics. The precipitation in State College will be shown in terms of total precipitation and snow. Along with the two variables shown, the maximum and minimum temperatures will be exhibited. To differentiate the maximum and minimum there will be one solid and the other dashed."
      ]
    },
    {
      "cell_type": "markdown",
      "metadata": {
        "id": "4SpXNphlVGdG",
        "colab_type": "text"
      },
      "source": [
        "#3. Sketch \n",
        "![alt text](https://drive.google.com/uc?id=1APVIGn86eStuxWlMo1_0gZuy6OugBSNj)\n",
        "\n",
        "\n"
      ]
    },
    {
      "cell_type": "markdown",
      "metadata": {
        "id": "3ML2F4_AVFEI",
        "colab_type": "text"
      },
      "source": [
        "#4. Conclusion \n",
        "The results show the precipitation that occurred was a maximum of 0.43 and it happened on January fourth. On the sixth of January there was a snow fall of 0.3 and that was the only day during this subset that any snow fell. The maximum temperature was 44°F on January fifth and the minimum was 15°F on the sixth.\n"
      ]
    }
  ]
}